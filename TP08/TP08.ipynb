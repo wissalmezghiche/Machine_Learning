{
 "cells": [
  {
   "cell_type": "code",
   "execution_count": 2,
   "metadata": {},
   "outputs": [],
   "source": [
    "import numpy as  np  "
   ]
  },
  {
   "cell_type": "code",
   "execution_count": 9,
   "metadata": {},
   "outputs": [
    {
     "name": "stdout",
     "output_type": "stream",
     "text": [
      "Prediction for [200, 5000, 60]: [1.]\n"
     ]
    }
   ],
   "source": [
    "def sigmoid_a(x, deriv=False):\n",
    "    if deriv:\n",
    "        return x * (1 - x)\n",
    "    return 1 / (1 + np.exp(-x))\n",
    "\n",
    "X = np.array([[0, 0, 1], [0, 1, 1], [1, 0, 1], [1, 1, 1]])\n",
    "y = np.array([[0, 0, 1, 1]]).T\n",
    "\n",
    "# Initialize the weights W1 to small random numbers.\n",
    "W = 2 * np.random.random((3, 1)) - 1  # Adjusted to range from -1 to 1.\n",
    "\n",
    "# Number of iterations\n",
    "num_iterations = 10000\n",
    "\n",
    "for i in range(num_iterations):\n",
    "    # Forward propagation\n",
    "    out = sigmoid_a(np.dot(X, W))\n",
    "   \n",
    "    # Error calculation\n",
    "    err = y - out\n",
    "   \n",
    " \n",
    "    # Backpropagation\n",
    "    delta = err * sigmoid_a(out, deriv=True)\n",
    "    W += np.dot(X.T, delta)\n",
    "\n",
    "# Prediction\n",
    "prediction = sigmoid_a(np.dot(np.array([200,5000, 60]), W))\n",
    "\n",
    "print(\"Prediction for [200, 5000, 60]:\", prediction)"
   ]
  }
 ],
 "metadata": {
  "kernelspec": {
   "display_name": "Python 3",
   "language": "python",
   "name": "python3"
  },
  "language_info": {
   "codemirror_mode": {
    "name": "ipython",
    "version": 3
   },
   "file_extension": ".py",
   "mimetype": "text/x-python",
   "name": "python",
   "nbconvert_exporter": "python",
   "pygments_lexer": "ipython3",
   "version": "3.12.2"
  }
 },
 "nbformat": 4,
 "nbformat_minor": 2
}
